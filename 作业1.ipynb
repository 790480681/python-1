{
 "cells": [
  {
   "cell_type": "code",
   "execution_count": null,
   "metadata": {},
   "outputs": [],
   "source": [
    "class KNNClassify():                       \n",
    "    def __init__(self,k=5, p=2):#k=5，比较5个点\n",
    " \n",
    "        self.k = k\n",
    "        self.p = p\n",
    "        self._X_train = None\n",
    "        self._y_train = None\n",
    " \n",
    "    def fit(self, X_train, y_train):\n",
    " \n",
    "        self._X_train = X_train\n",
    "        self._y_train = y_train\n",
    "        return self\n",
    " \n",
    "    def predict_y(self, X_test):#预测y的数据\n",
    "    #step1 计算\n",
    "        m = self._X_train.shape[0]\n",
    "        y_pre = []\n",
    "        for intX in X_test:\n",
    "            minus_mat = np.fabs(np.tile(intX, (m, 1)) - self._X_train)       # 将新的实例复制成m行1列，并进行相减\n",
    "            sq_minus_mat = minus_mat ** self.p                               #把数据平方\n",
    "            sq_distance = sq_minus_mat.sum(axis=1)                          #数据累加\n",
    "            diff_sq_distance = sq_distance ** float(1/self.p)               #数据开方\n",
    "    #step2 对距离排序\n",
    "            sorted_distance_index = diff_sq_distance.argsort()               # 记录距离最近的k个点的索引\n",
    "            class_count = {}       \n",
    "            vola = []  \n",
    "    #step3 选择k个最近邻\n",
    "            for i in range(self.k):\n",
    "                vola = self._y_train[sorted_distance_index[i]]           \n",
    "    #step4 计算k个最近邻中个类别出现的次数\n",
    "                class_count[vola] = class_count.get(vola, 0) + 1             # 统计k个点中所属各个类别的实例数目\n",
    " \n",
    "            sorted_class_count = sorted(class_count.items(), key=operator.itemgetter(1), reverse=True)    # 返回列表，元素为元组。每个类别以及对应的实例数目\n",
    "            y_pre.append((sorted_class_count[0][0]))\n",
    "        return (np.array(y_pre))\n",
    " \n",
    "\n",
    "\n",
    "\n",
    "\n",
    "import numpy as np\n",
    "import operator\n",
    "#导入数据集生成器\n",
    "from sklearn.datasets import make_blobs\n",
    "#导入画图工具\n",
    "import matplotlib.pyplot as plt\n",
    "\n",
    "data = make_blobs(n_samples=400, centers =2,random_state=8) \n",
    "X, y = data\n",
    "# 定义分类器的实例，并进行拟合预测\n",
    "f = KNNClassify()\n",
    "f.fit(X, y)\n",
    "#下面的代码用于画图\n",
    "x_min, x_max = X[:, 0].min() - 1, X[:, 0].max() +  1\n",
    "y_min, y_max = X[:, 1].min() - 1, X[:, 1].max() + 1   \n",
    "xx, yy = np.meshgrid(np.arange(x_min, x_max,  .02),np.arange(y_min, y_max, .02)) \n",
    "\n",
    "Z = clf.predict(np.c_[xx.ravel(), yy.ravel()])\n",
    "Z = Z.reshape(xx.shape)\n",
    "\n",
    "plt.pcolormesh(xx, yy, Z, cmap=plt.cm.Pastel1)\n",
    "plt.scatter(X[:, 0], X[:, 1], c=y, cmap=plt.cm.spring, edgecolor='k') \n",
    "plt.xlim(xx.min(), xx.max())\n",
    "plt.ylim(yy.min(), yy.max())\n",
    "plt.title(\"Classifier:KNN\")\n",
    "plt.show()\n"
   ]
  },
  {
   "cell_type": "code",
   "execution_count": null,
   "metadata": {},
   "outputs": [],
   "source": [
    "\n"
   ]
  }
 ],
 "metadata": {
  "kernelspec": {
   "display_name": "Python 3",
   "language": "python",
   "name": "python3"
  },
  "language_info": {
   "codemirror_mode": {
    "name": "ipython",
    "version": 3
   },
   "file_extension": ".py",
   "mimetype": "text/x-python",
   "name": "python",
   "nbconvert_exporter": "python",
   "pygments_lexer": "ipython3",
   "version": "3.7.6"
  }
 },
 "nbformat": 4,
 "nbformat_minor": 4
}
